{
 "cells": [
  {
   "cell_type": "code",
   "execution_count": 15,
   "metadata": {},
   "outputs": [],
   "source": [
    "import os\n",
    "import sys\n",
    "from sklearn.model_selection import train_test_split\n",
    "import pandas as pd"
   ]
  },
  {
   "cell_type": "code",
   "execution_count": 16,
   "metadata": {},
   "outputs": [
    {
     "data": {
      "text/html": [
       "<div>\n",
       "<style scoped>\n",
       "    .dataframe tbody tr th:only-of-type {\n",
       "        vertical-align: middle;\n",
       "    }\n",
       "\n",
       "    .dataframe tbody tr th {\n",
       "        vertical-align: top;\n",
       "    }\n",
       "\n",
       "    .dataframe thead th {\n",
       "        text-align: right;\n",
       "    }\n",
       "</style>\n",
       "<table border=\"1\" class=\"dataframe\">\n",
       "  <thead>\n",
       "    <tr style=\"text-align: right;\">\n",
       "      <th></th>\n",
       "      <th>pth</th>\n",
       "      <th>label</th>\n",
       "    </tr>\n",
       "  </thead>\n",
       "  <tbody>\n",
       "    <tr>\n",
       "      <th>0</th>\n",
       "      <td>anger/image0000006.jpg</td>\n",
       "      <td>surprise</td>\n",
       "    </tr>\n",
       "    <tr>\n",
       "      <th>1</th>\n",
       "      <td>anger/image0000060.jpg</td>\n",
       "      <td>anger</td>\n",
       "    </tr>\n",
       "    <tr>\n",
       "      <th>2</th>\n",
       "      <td>anger/image0000061.jpg</td>\n",
       "      <td>anger</td>\n",
       "    </tr>\n",
       "    <tr>\n",
       "      <th>3</th>\n",
       "      <td>anger/image0000066.jpg</td>\n",
       "      <td>disgust</td>\n",
       "    </tr>\n",
       "    <tr>\n",
       "      <th>4</th>\n",
       "      <td>anger/image0000106.jpg</td>\n",
       "      <td>anger</td>\n",
       "    </tr>\n",
       "  </tbody>\n",
       "</table>\n",
       "</div>"
      ],
      "text/plain": [
       "                      pth     label\n",
       "0  anger/image0000006.jpg  surprise\n",
       "1  anger/image0000060.jpg     anger\n",
       "2  anger/image0000061.jpg     anger\n",
       "3  anger/image0000066.jpg   disgust\n",
       "4  anger/image0000106.jpg     anger"
      ]
     },
     "execution_count": 16,
     "metadata": {},
     "output_type": "execute_result"
    }
   ],
   "source": [
    "df = pd.read_csv('data/archive/labels.csv')\n",
    "df.drop(columns=['Unnamed: 0'], inplace=True)\n",
    "df.drop(columns=['relFCs'], inplace=True)\n",
    "df.head()"
   ]
  },
  {
   "cell_type": "code",
   "execution_count": 18,
   "metadata": {},
   "outputs": [
    {
     "data": {
      "text/plain": [
       "(                             pth     label\n",
       " 16932      neutral/ffhq_1666.png   neutral\n",
       " 26260  surprise/image0025690.jpg  surprise\n",
       " 21408       sad/image0002414.jpg       sad\n",
       " 11526        happy/ffhq_1339.png  contempt\n",
       " 4771   contempt/image0038413.jpg  contempt\n",
       " ...                          ...       ...\n",
       " 2153      anger/image0025819.jpg   neutral\n",
       " 21936       sad/image0013134.jpg       sad\n",
       " 17943      neutral/ffhq_2576.png   neutral\n",
       " 13939        happy/ffhq_3510.png     happy\n",
       " 4116   contempt/image0035030.jpg  contempt\n",
       " \n",
       " [22540 rows x 2 columns],\n",
       "                              pth     label\n",
       " 24355      surprise/ffhq_238.png  surprise\n",
       " 25352  surprise/image0014116.jpg  surprise\n",
       " 26975  surprise/image0031088.jpg      fear\n",
       " 2665      anger/image0028678.jpg     anger\n",
       " 13676        happy/ffhq_3274.png     happy\n",
       " ...                          ...       ...\n",
       " 21980       sad/image0013791.jpg      fear\n",
       " 5863    disgust/image0004758.jpg   disgust\n",
       " 15247         happy/ffhq_469.png     happy\n",
       " 15487        happy/ffhq_4905.png     happy\n",
       " 15226        happy/ffhq_4670.png  contempt\n",
       " \n",
       " [2818 rows x 2 columns],\n",
       "                              pth     label\n",
       " 26415  surprise/image0027115.jpg  surprise\n",
       " 28056  surprise/image0034599.jpg  surprise\n",
       " 13696        happy/ffhq_3292.png  contempt\n",
       " 26403  surprise/image0027037.jpg     anger\n",
       " 19757      neutral/ffhq_4808.png   neutral\n",
       " ...                          ...       ...\n",
       " 8737       fear/image0026854.jpg       sad\n",
       " 12286        happy/ffhq_2022.png     happy\n",
       " 13516         happy/ffhq_313.png     happy\n",
       " 27189  surprise/image0031862.jpg     anger\n",
       " 20868       neutral/ffhq_710.png     happy\n",
       " \n",
       " [2817 rows x 2 columns])"
      ]
     },
     "execution_count": 18,
     "metadata": {},
     "output_type": "execute_result"
    }
   ],
   "source": [
    "X = df['pth']\n",
    "y = df['label']\n",
    "X_train, X_remaining, y_train, y_remaining = train_test_split(X, y, test_size=0.2, random_state=42 , stratify= y )\n",
    "X_val, X_test, y_val, y_test = train_test_split(X_remaining, y_remaining, test_size=0.5, random_state=42, stratify= y_remaining)\n",
    "\n",
    "train_data = pd.concat([X_train, y_train], axis=1)\n",
    "val_data = pd.concat([X_val, y_val], axis=1)\n",
    "test_data = pd.concat([X_test, y_test], axis=1)\n",
    "\n",
    "train_data , test_data , val_data"
   ]
  },
  {
   "cell_type": "code",
   "execution_count": 19,
   "metadata": {},
   "outputs": [],
   "source": [
    "train_data.to_csv('data/train.csv', index=False)\n",
    "test_data.to_csv('data/test.csv', index=False)\n",
    "val_data.to_csv('data/validation.csv', index=False)"
   ]
  }
 ],
 "metadata": {
  "kernelspec": {
   "display_name": "Python 3",
   "language": "python",
   "name": "python3"
  },
  "language_info": {
   "codemirror_mode": {
    "name": "ipython",
    "version": 3
   },
   "file_extension": ".py",
   "mimetype": "text/x-python",
   "name": "python",
   "nbconvert_exporter": "python",
   "pygments_lexer": "ipython3",
   "version": "3.10.12"
  }
 },
 "nbformat": 4,
 "nbformat_minor": 2
}
